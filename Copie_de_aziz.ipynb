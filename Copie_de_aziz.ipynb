{
  "cells": [
    {
      "cell_type": "markdown",
      "metadata": {
        "id": "view-in-github",
        "colab_type": "text"
      },
      "source": [
        "<a href=\"https://colab.research.google.com/github/azizbramli/stage/blob/main/Copie_de_aziz.ipynb\" target=\"_parent\"><img src=\"https://colab.research.google.com/assets/colab-badge.svg\" alt=\"Open In Colab\"/></a>"
      ]
    },
    {
      "cell_type": "code",
      "execution_count": null,
      "id": "04e3bafa-03b0-46b6-85c9-ff610dd8a356",
      "metadata": {
        "id": "04e3bafa-03b0-46b6-85c9-ff610dd8a356",
        "outputId": "0cbebbe6-5d6c-4aeb-f5e5-0e3511fd274c"
      },
      "outputs": [
        {
          "name": "stdout",
          "output_type": "stream",
          "text": [
            "User feedback data saved to user_feedback.csv.\n"
          ]
        }
      ],
      "source": [
        "import pandas as pd\n",
        "\n",
        "# Example user feedback data\n",
        "feedback_data = {\n",
        "    'code': [\n",
        "        'def add(a: int, b: int) -> int:\\n    return a + b',  # Good practice\n",
        "        'def add(a, b):\\n    return a + b',  # Missing type hints\n",
        "        'def multiply(a: int, b: int) -> int:\\n    \"\"\"Multiplies two integers and returns the result.\"\"\"\\n    return a * b',  # Good practice\n",
        "        'def multiply(a, b):\\n    return a * b',  # Missing docstring\n",
        "        'import logging\\n\\ndef divide(a: int, b: int) -> float:\\n    if b == 0:\\n        logging.error(\"Division by zero attempt\")\\n        return float(\\'inf\\')\\n    return a / b',  # Good practice with logging\n",
        "        'def divide(a, b):\\n    return a / b'  # Lacks error handling\n",
        "    ],\n",
        "    'review': [\n",
        "        'Best Practice: Type hints are used for clarity.',\n",
        "        'Not Best Practice: Missing type hints.',\n",
        "        'Best Practice: Includes a docstring explaining the function.',\n",
        "        'Not Best Practice: Missing docstring.',\n",
        "        'Best Practice: Uses logging for error handling.',\n",
        "        'Not Best Practice: Lacks error handling.'\n",
        "    ]\n",
        "}\n",
        "\n",
        "\n",
        "# Create DataFrame\n",
        "df_feedback = pd.DataFrame(feedback_data)\n",
        "\n",
        "# Save to CSV\n",
        "df_feedback.to_csv('user_feedback.csv', index=False)\n",
        "print(\"User feedback data saved to user_feedback.csv.\")\n"
      ]
    },
    {
      "cell_type": "code",
      "execution_count": null,
      "id": "da9feea1-c786-4b34-ac06-c208c567c6c9",
      "metadata": {
        "id": "da9feea1-c786-4b34-ac06-c208c567c6c9",
        "outputId": "ea6aaa5f-af8b-42ee-d837-e0411cd2c128"
      },
      "outputs": [
        {
          "name": "stdin",
          "output_type": "stream",
          "text": [
            "Enter code snippet:  a\n",
            "Enter feedback (Best Practice / Not Best Practice):  a\n"
          ]
        },
        {
          "name": "stdout",
          "output_type": "stream",
          "text": [
            "Feedback saved successfully.\n",
            "Model retrained and saved successfully.\n"
          ]
        }
      ],
      "source": [
        "import pandas as pd\n",
        "import os\n",
        "import joblib\n",
        "from sklearn.feature_extraction.text import TfidfVectorizer\n",
        "from sklearn.linear_model import LogisticRegression\n",
        "from sklearn.pipeline import make_pipeline\n",
        "from sklearn.model_selection import train_test_split  # Importing the function needed\n",
        "\n",
        "# File paths\n",
        "feedback_file = 'user_feedback.csv'\n",
        "model_file = 'text_classification_model.joblib'\n",
        "\n",
        "def save_feedback(code_snippet, review):\n",
        "    \"\"\"Save user feedback to the CSV file and update the model.\"\"\"\n",
        "    data = {'code': [code_snippet], 'review': [review]}\n",
        "    df = pd.DataFrame(data)\n",
        "\n",
        "    if os.path.exists(feedback_file):\n",
        "        df.to_csv(feedback_file, mode='a', header=False, index=False)\n",
        "    else:\n",
        "        df.to_csv(feedback_file, index=False)\n",
        "\n",
        "    print(\"Feedback saved successfully.\")\n",
        "    retrain_model()\n",
        "\n",
        "def retrain_model():\n",
        "    \"\"\"Retrain the model with the latest feedback.\"\"\"\n",
        "    if os.path.exists(feedback_file):\n",
        "        df = pd.read_csv(feedback_file)\n",
        "        X = df['code']\n",
        "        y = df['review']\n",
        "\n",
        "        X_train, X_test, y_train, y_test = train_test_split(X, y, test_size=0.2, random_state=42)\n",
        "\n",
        "        model = make_pipeline(TfidfVectorizer(), LogisticRegression(max_iter=1000))\n",
        "        model.fit(X_train, y_train)\n",
        "\n",
        "        joblib.dump(model, model_file)\n",
        "        print(\"Model retrained and saved successfully.\")\n",
        "    else:\n",
        "        print(\"No feedback data available to retrain the model.\")\n",
        "\n",
        "# Example usage\n",
        "if __name__ == \"__main__\":\n",
        "    code_input = input(\"Enter code snippet: \")\n",
        "    feedback_input = input(\"Enter feedback (Best Practice / Not Best Practice): \")\n",
        "    save_feedback(code_input, feedback_input)\n"
      ]
    },
    {
      "cell_type": "code",
      "execution_count": null,
      "id": "1f81dd06-643e-49af-82b3-bc095e214911",
      "metadata": {
        "id": "1f81dd06-643e-49af-82b3-bc095e214911",
        "outputId": "5c3a5f55-ad4f-4155-f8e5-6689d3f1c037"
      },
      "outputs": [
        {
          "name": "stdout",
          "output_type": "stream",
          "text": [
            "Prediction: Best Practice: Includes a docstring explaining the function.\n"
          ]
        }
      ],
      "source": [
        "import joblib\n",
        "\n",
        "# Load the updated model\n",
        "model = joblib.load('text_classification_model.joblib')\n",
        "\n",
        "# Use the model for predictions\n",
        "def predict_best_practice(code_snippet):\n",
        "    prediction = model.predict([code_snippet])\n",
        "    return prediction[0]\n",
        "\n",
        "# Example usage\n",
        "new_code = 'def sum(int a,))) return b;'\n",
        "print(f\"Prediction: {predict_best_practice(new_code)}\")\n"
      ]
    },
    {
      "cell_type": "code",
      "execution_count": null,
      "id": "90aec1a8-8b9d-4708-a7c1-95eb7a48f869",
      "metadata": {
        "id": "90aec1a8-8b9d-4708-a7c1-95eb7a48f869"
      },
      "outputs": [],
      "source": []
    },
    {
      "cell_type": "code",
      "execution_count": null,
      "id": "8392e5eb-14b9-4f7e-9a9f-60cd1360777c",
      "metadata": {
        "id": "8392e5eb-14b9-4f7e-9a9f-60cd1360777c"
      },
      "outputs": [],
      "source": []
    },
    {
      "cell_type": "code",
      "execution_count": null,
      "id": "045c8f34-37cf-4d64-aaf0-eddd7db89af8",
      "metadata": {
        "id": "045c8f34-37cf-4d64-aaf0-eddd7db89af8"
      },
      "outputs": [],
      "source": []
    },
    {
      "cell_type": "code",
      "execution_count": null,
      "id": "0740b34d-ffbd-4f61-946a-d57cc9726ee7",
      "metadata": {
        "id": "0740b34d-ffbd-4f61-946a-d57cc9726ee7",
        "outputId": "194be6e8-3b93-482f-b930-c3ae903b92c5"
      },
      "outputs": [
        {
          "name": "stdin",
          "output_type": "stream",
          "text": [
            "Enter code snippet:  a\n",
            "Enter feedback (Best Practice / Not Best Practice):  a\n"
          ]
        },
        {
          "name": "stdout",
          "output_type": "stream",
          "text": [
            "Feedback saved successfully.\n"
          ]
        },
        {
          "ename": "MemoryError",
          "evalue": "",
          "output_type": "error",
          "traceback": [
            "\u001b[1;31m---------------------------------------------------------------------------\u001b[0m",
            "\u001b[1;31mMemoryError\u001b[0m                               Traceback (most recent call last)",
            "Cell \u001b[1;32mIn[107], line 79\u001b[0m\n\u001b[0;32m     77\u001b[0m code_input \u001b[38;5;241m=\u001b[39m \u001b[38;5;28minput\u001b[39m(\u001b[38;5;124m\"\u001b[39m\u001b[38;5;124mEnter code snippet: \u001b[39m\u001b[38;5;124m\"\u001b[39m)\n\u001b[0;32m     78\u001b[0m feedback_input \u001b[38;5;241m=\u001b[39m \u001b[38;5;28minput\u001b[39m(\u001b[38;5;124m\"\u001b[39m\u001b[38;5;124mEnter feedback (Best Practice / Not Best Practice): \u001b[39m\u001b[38;5;124m\"\u001b[39m)\n\u001b[1;32m---> 79\u001b[0m save_feedback(code_input, feedback_input)\n",
            "Cell \u001b[1;32mIn[107], line 48\u001b[0m, in \u001b[0;36msave_feedback\u001b[1;34m(code_snippet, review)\u001b[0m\n\u001b[0;32m     45\u001b[0m     df\u001b[38;5;241m.\u001b[39mto_csv(feedback_file, index\u001b[38;5;241m=\u001b[39m\u001b[38;5;28;01mFalse\u001b[39;00m)\n\u001b[0;32m     47\u001b[0m \u001b[38;5;28mprint\u001b[39m(\u001b[38;5;124m\"\u001b[39m\u001b[38;5;124mFeedback saved successfully.\u001b[39m\u001b[38;5;124m\"\u001b[39m)\n\u001b[1;32m---> 48\u001b[0m retrain_model()\n",
            "Cell \u001b[1;32mIn[107], line 58\u001b[0m, in \u001b[0;36mretrain_model\u001b[1;34m()\u001b[0m\n\u001b[0;32m     55\u001b[0m     df_feedback \u001b[38;5;241m=\u001b[39m pd\u001b[38;5;241m.\u001b[39mDataFrame(columns\u001b[38;5;241m=\u001b[39m[\u001b[38;5;124m'\u001b[39m\u001b[38;5;124mcode\u001b[39m\u001b[38;5;124m'\u001b[39m, \u001b[38;5;124m'\u001b[39m\u001b[38;5;124mreview\u001b[39m\u001b[38;5;124m'\u001b[39m])\n\u001b[0;32m     57\u001b[0m \u001b[38;5;66;03m# Load CodeSearchNet data\u001b[39;00m\n\u001b[1;32m---> 58\u001b[0m df_codesearchnet \u001b[38;5;241m=\u001b[39m load_codesearchnet_data(codesearchnet_file)\n\u001b[0;32m     60\u001b[0m \u001b[38;5;66;03m# Combine feedback with CodeSearchNet data\u001b[39;00m\n\u001b[0;32m     61\u001b[0m df \u001b[38;5;241m=\u001b[39m pd\u001b[38;5;241m.\u001b[39mconcat([df_feedback, df_codesearchnet], ignore_index\u001b[38;5;241m=\u001b[39m\u001b[38;5;28;01mTrue\u001b[39;00m)\n",
            "Cell \u001b[1;32mIn[107], line 18\u001b[0m, in \u001b[0;36mload_codesearchnet_data\u001b[1;34m(filepath)\u001b[0m\n\u001b[0;32m     16\u001b[0m \u001b[38;5;250m\u001b[39m\u001b[38;5;124;03m\"\"\"Load the CodeSearchNet pickled dataset.\"\"\"\u001b[39;00m\n\u001b[0;32m     17\u001b[0m \u001b[38;5;28;01mwith\u001b[39;00m \u001b[38;5;28mopen\u001b[39m(filepath, \u001b[38;5;124m'\u001b[39m\u001b[38;5;124mrb\u001b[39m\u001b[38;5;124m'\u001b[39m) \u001b[38;5;28;01mas\u001b[39;00m file:\n\u001b[1;32m---> 18\u001b[0m     data \u001b[38;5;241m=\u001b[39m pickle\u001b[38;5;241m.\u001b[39mload(file)\n\u001b[0;32m     20\u001b[0m \u001b[38;5;66;03m# Check if the loaded data is a DataFrame, list, or dictionary\u001b[39;00m\n\u001b[0;32m     21\u001b[0m \u001b[38;5;28;01mif\u001b[39;00m \u001b[38;5;28misinstance\u001b[39m(data, pd\u001b[38;5;241m.\u001b[39mDataFrame):\n",
            "\u001b[1;31mMemoryError\u001b[0m: "
          ]
        }
      ],
      "source": [
        "import pandas as pd\n",
        "import os\n",
        "import joblib\n",
        "import pickle\n",
        "from sklearn.feature_extraction.text import TfidfVectorizer\n",
        "from sklearn.linear_model import LogisticRegression\n",
        "from sklearn.pipeline import make_pipeline\n",
        "from sklearn.model_selection import train_test_split\n",
        "\n",
        "# File paths\n",
        "feedback_file = 'user_feedback.csv'\n",
        "model_file = 'text_classification_model.joblib'\n",
        "codesearchnet_file = 'Desktop/java_dedupe_definitions_v2.pkl'  # Path to your pickled dataset\n",
        "\n",
        "def load_codesearchnet_data(filepath):\n",
        "    \"\"\"Load the CodeSearchNet pickled dataset.\"\"\"\n",
        "    with open(filepath, 'rb') as file:\n",
        "        data = pickle.load(file)\n",
        "\n",
        "    # Check if the loaded data is a DataFrame, list, or dictionary\n",
        "    if isinstance(data, pd.DataFrame):\n",
        "        df = data\n",
        "    elif isinstance(data, list):\n",
        "        df = pd.DataFrame(data)\n",
        "    else:\n",
        "        raise TypeError(\"Unexpected data type in the pickled file.\")\n",
        "\n",
        "    # Assuming the DataFrame has a 'code' column with code snippets\n",
        "    if 'code' in df.columns:\n",
        "        df = df[['code']]\n",
        "        df.columns = ['code']  # Rename column to match your existing code\n",
        "        df['review'] = 'Best Practice'  # Default label, adjust based on your needs\n",
        "        return df\n",
        "    else:\n",
        "        raise ValueError(\"'code' column not found in the dataset.\")\n",
        "\n",
        "def save_feedback(code_snippet, review):\n",
        "    \"\"\"Save user feedback to the CSV file and update the model.\"\"\"\n",
        "    data = {'code': [code_snippet], 'review': [review]}\n",
        "    df = pd.DataFrame(data)\n",
        "\n",
        "    if os.path.exists(feedback_file):\n",
        "        df.to_csv(feedback_file, mode='a', header=False, index=False)\n",
        "    else:\n",
        "        df.to_csv(feedback_file, index=False)\n",
        "\n",
        "    print(\"Feedback saved successfully.\")\n",
        "    retrain_model()\n",
        "\n",
        "def retrain_model():\n",
        "    \"\"\"Retrain the model with the latest feedback and CodeSearchNet data.\"\"\"\n",
        "    if os.path.exists(feedback_file):\n",
        "        df_feedback = pd.read_csv(feedback_file)\n",
        "    else:\n",
        "        df_feedback = pd.DataFrame(columns=['code', 'review'])\n",
        "\n",
        "    # Load CodeSearchNet data\n",
        "    df_codesearchnet = load_codesearchnet_data(codesearchnet_file)\n",
        "\n",
        "    # Combine feedback with CodeSearchNet data\n",
        "    df = pd.concat([df_feedback, df_codesearchnet], ignore_index=True)\n",
        "\n",
        "    # Prepare data\n",
        "    X = df['code']\n",
        "    y = df['review']\n",
        "\n",
        "    X_train, X_test, y_train, y_test = train_test_split(X, y, test_size=0.2, random_state=42)\n",
        "\n",
        "    model = make_pipeline(TfidfVectorizer(), LogisticRegression(max_iter=1000))\n",
        "    model.fit(X_train, y_train)\n",
        "\n",
        "    joblib.dump(model, model_file)\n",
        "    print(\"Model retrained and saved successfully.\")\n",
        "\n",
        "# Example usage\n",
        "if __name__ == \"__main__\":\n",
        "    code_input = input(\"Enter code snippet: \")\n",
        "    feedback_input = input(\"Enter feedback (Best Practice / Not Best Practice): \")\n",
        "    save_feedback(code_input, feedback_input)\n"
      ]
    },
    {
      "cell_type": "code",
      "execution_count": null,
      "id": "ddc6533c-b2c7-412b-9257-f1cecb341d74",
      "metadata": {
        "id": "ddc6533c-b2c7-412b-9257-f1cecb341d74"
      },
      "outputs": [],
      "source": []
    }
  ],
  "metadata": {
    "kernelspec": {
      "display_name": "Python 3 (ipykernel)",
      "language": "python",
      "name": "python3"
    },
    "language_info": {
      "codemirror_mode": {
        "name": "ipython",
        "version": 3
      },
      "file_extension": ".py",
      "mimetype": "text/x-python",
      "name": "python",
      "nbconvert_exporter": "python",
      "pygments_lexer": "ipython3",
      "version": "3.12.4"
    },
    "colab": {
      "provenance": [],
      "include_colab_link": true
    }
  },
  "nbformat": 4,
  "nbformat_minor": 5
}